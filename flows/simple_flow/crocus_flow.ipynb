{
 "cells": [
  {
   "cell_type": "markdown",
   "metadata": {},
   "source": [
    "# CROCUS Flows using Globus:\n",
    "\n",
    "The Globus Compute SDK simplifies remote task execution on distributed computing resources, such as cloud environments, high-performance computing (HPC) systems, or clusters. It allows users to seamlessly execute Python functions on remote machines without needing to manage the underlying infrastructure manually.\n",
    "\n",
    "\n",
    "This tutorial will guide you through the steps of:\n",
    "- Setting up a Python environment to use the Globus Compute SDK.\n",
    "- Writing and registering a function that can be executed remotely.\n",
    "- Configuring and starting a Globus Compute Endpoint.\n",
    "- Submitting tasks and retrieving results."
   ]
  },
  {
   "cell_type": "markdown",
   "metadata": {},
   "source": [
    "### 0. create a new Conda environment.\n",
    "`conda create -n globus python=3.12`\n",
    "\n",
    "`conda activate globus`\n",
    "\n",
    "`pip install globus-compute-sdk`\n",
    "\n",
    "`pip install python-dotenv`"
   ]
  },
  {
   "cell_type": "markdown",
   "metadata": {},
   "source": [
    "### 1a. Processing function\n",
    "\n",
    "this is the main function that will do everything, naming it the `main()` in our program should not cause any issues. This function  will handle all your processing. The function processes a file, converts its content to uppercase, and stores the result in an output file.  Nothing globus related in this code, except that all the processing code should be in one single function and all the imports should be inside the function. Also make sure that the function returns something like file names that are processed."
   ]
  },
  {
   "cell_type": "code",
   "execution_count": 6,
   "metadata": {},
   "outputs": [],
   "source": [
    "def gc_test_func(file_path):\n",
    "    from dataclasses import dataclass\n",
    "    import os\n",
    "    \n",
    "    # this will replace our argparser somehow\n",
    "    @dataclass\n",
    "    class ArgsClass:\n",
    "        file_path: str\n",
    "    args = ArgsClass(file_path=file_path)\n",
    "\n",
    "    # create output filepath\n",
    "    output_file_path = args.file_path.replace(\"input\", \"output\")\n",
    "\n",
    "    try:\n",
    "        # Read file\n",
    "        with open(args.file_path, 'r') as input_file:\n",
    "            content = input_file.read()\n",
    "\n",
    "        # Convert to uppercase\n",
    "        converted_content = content.upper()\n",
    "\n",
    "        # Write the output file\n",
    "        with open(output_file_path, 'w') as output_file:\n",
    "            output_file.write(converted_content)\n",
    "\n",
    "        return output_file_path\n",
    "\n",
    "    except Exception as e:\n",
    "        return f\"Error processing file {args.file_path}: {e}\"\n"
   ]
  },
  {
   "cell_type": "markdown",
   "metadata": {},
   "source": [
    "### 1b. Register function\n",
    "\n",
    "Now, register the function you wrote above with Globus Compute using the Client from the Globus Compute SDK. This code is also part of the above file but outside the function. This will return a UUID for your function that you will need later for executing it. Everytime we register the function we will get unique id even if the function is same."
   ]
  },
  {
   "cell_type": "code",
   "execution_count": 7,
   "metadata": {},
   "outputs": [
    {
     "name": "stdout",
     "output_type": "stream",
     "text": [
      "Function registered with UUID - a83e1606-38e6-4282-a52c-5ba160c0e5d2\n",
      "The UUID is stored in gc_test_func_uuid.txt.\n"
     ]
    }
   ],
   "source": [
    "import globus_compute_sdk\n",
    "# make Globus Compute client\n",
    "gcc = globus_compute_sdk.Client()\n",
    "\n",
    "# Register the function\n",
    "COMPUTE_FUNCTION_ID = gcc.register_function(gc_test_func)\n",
    "\n",
    "# Write function UUID in a file, is this filename always in this format\n",
    "uuid_file_name = \"gc_test_func_uuid.txt\"\n",
    "with open(uuid_file_name, \"w\") as file:\n",
    "    file.write(COMPUTE_FUNCTION_ID)\n",
    "    file.write(\"\\n\")\n",
    "file.close()\n",
    "\n",
    "# End of script\n",
    "print(\"Function registered with UUID -\", COMPUTE_FUNCTION_ID)\n",
    "print(\"The UUID is stored in \" + uuid_file_name + \".\")\n"
   ]
  },
  {
   "cell_type": "markdown",
   "metadata": {
    "notebookRunGroups": {
     "groupValue": "2"
    }
   },
   "source": [
    "### 2a. Configure the Globus Compute Endpoint\n",
    "Now we will create globus compute endpoint, that will execute the registered function.\n",
    "\n",
    "`globus-compute-endpoint configure gc_test`\n",
    "\n",
    "or with confg file\n",
    "\n",
    "`globus-compute-endpoint configure --endpoint-config gc_config.yaml gc_test`\n",
    "\n",
    ">Created profile for endpoint named <gc_test>\n",
    "\tConfiguration file: /Users/bhupendra/.globus_compute/gc_test/config.yaml\n",
    " Use the `start` subcommand to run it:\n",
    "\t$ globus-compute-endpoint start gc_test\n"
   ]
  },
  {
   "cell_type": "markdown",
   "metadata": {},
   "source": [
    "### 2b. Start the endpoint\n",
    "\n",
    " `(globus) globus % globus-compute-endpoint start gc_test`\n",
    " \n",
    "> Starting endpoint; registered ID: 2e8888cf-e462-4993-bd0f-fe0cf0c8fb9b\n",
    "\n",
    "\n",
    "Remember to note the registration id of the endpoint, we will need it while running the function."
   ]
  },
  {
   "cell_type": "markdown",
   "metadata": {},
   "source": [
    "### 3. Set Up the .env File\n",
    "Create a `.env` file in your project directory where the test function is stored with following structure.\n",
    "\n",
    "> ENDPOINT_UUID=\"2e8888cf-e462-4993-bd0f-fe0cf0c8fb9b\"\n",
    "\n",
    "> FUNCTION_UUID=\"a83e1606-38e6-4282-a52c-5ba160c0e5d2\""
   ]
  },
  {
   "cell_type": "markdown",
   "metadata": {},
   "source": [
    "### 4. Submit a Job to Globus Compute\n",
    "Now that the function is registered and the endpoint is set up."
   ]
  },
  {
   "cell_type": "code",
   "execution_count": 2,
   "metadata": {},
   "outputs": [
    {
     "name": "stdout",
     "output_type": "stream",
     "text": [
      "endpoint uuid 2e8888cf-e462-4993-bd0f-fe0cf0c8fb9b\n",
      "function uuid a83e1606-38e6-4282-a52c-5ba160c0e5d2\n",
      "/Users/bhupendra/learning/globus/data/output.txt\n",
      "Check the Output file located at: /Users/bhupendra/learning/globus/data/output.txt\n"
     ]
    }
   ],
   "source": [
    "from globus_compute_sdk import Client, Executor\n",
    "from dotenv import load_dotenv\n",
    "import os\n",
    "\n",
    "# Load variables from the .env file\n",
    "load_dotenv()\n",
    "endpoint_uuid = os.getenv(\"ENDPOINT_UUID\")\n",
    "function_uuid = os.getenv(\"FUNCTION_UUID\")\n",
    "\n",
    "print(f\"endpoint uuid {endpoint_uuid}\")\n",
    "print(f\"function uuid {function_uuid}\")\n",
    "\n",
    "# Create Globus Compute SDK Client and Executor\n",
    "gcc = Client()\n",
    "gce = Executor(endpoint_id=endpoint_uuid, client=gcc, amqp_port=443)\n",
    "\n",
    "\n",
    "data = {\n",
    "    \"file_path\": \"/Users/bhupendra/learning/globus/data/input.txt\",\n",
    "}\n",
    "\n",
    "# Submit the function to the Globus Compute service\n",
    "future = gce.submit_to_registered_function(function_uuid, kwargs=data)\n",
    "\n",
    "# Retrieve the result\n",
    "result = future.result()\n",
    "print(result)\n",
    "\n",
    "# Check if the result is a valid output file path\n",
    "if result and isinstance(result, str) and os.path.exists(result):\n",
    "    print(f\"Check the Output file located at: {result}\")\n",
    "else:\n",
    "    print(f\"Failed. {result}\")\n"
   ]
  },
  {
   "cell_type": "markdown",
   "metadata": {},
   "source": [
    "The example function is a simple test case to demonstrate how to register and run tasks using the Globus Compute SDK."
   ]
  }
 ],
 "metadata": {
  "kernelspec": {
   "display_name": "globus",
   "language": "python",
   "name": "python3"
  },
  "language_info": {
   "codemirror_mode": {
    "name": "ipython",
    "version": 3
   },
   "file_extension": ".py",
   "mimetype": "text/x-python",
   "name": "python",
   "nbconvert_exporter": "python",
   "pygments_lexer": "ipython3",
   "version": "3.12.2"
  }
 },
 "nbformat": 4,
 "nbformat_minor": 2
}
