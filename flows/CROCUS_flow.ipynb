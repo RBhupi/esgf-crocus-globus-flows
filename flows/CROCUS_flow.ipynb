{
 "cells": [
  {
   "cell_type": "code",
   "execution_count": 1,
   "id": "12d19eca-a6f7-428f-8b53-259106d91fe1",
   "metadata": {},
   "outputs": [],
   "source": [
    "import time\n",
    "import json\n",
    "import datetime\n",
    "import globus_sdk\n",
    "\n",
    "from globus_sdk import TimerJob\n",
    "from globus_compute_sdk import Executor\n",
    "from globus_sdk.experimental.globus_app import UserApp\n",
    "\n",
    "from globus_sdk.utils import slash_join"
   ]
  },
  {
   "cell_type": "code",
   "execution_count": 2,
   "id": "5126f5db-60ae-4d4a-aaf4-67848106b4d0",
   "metadata": {},
   "outputs": [
    {
     "name": "stdout",
     "output_type": "stream",
     "text": [
      "\n",
      "Please authenticate with Globus here:\n",
      "-------------------------------------\n",
      "https://auth.globus.org/v2/oauth2/authorize?client_id=1b3a354b-30b2-415d-a137-751c23cf9a1f&redirect_uri=https%3A%2F%2Fauth.globus.org%2Fv2%2Fweb%2Fauth-code&scope=openid+https%3A%2F%2Fauth.globus.org%2Fscopes%2Feec9b274-0c81-4334-bdc2-54e90e689b9a%2Fall&state=_default&response_type=code&code_challenge=pz0rPwyl9oG3b0x4UGQPziBNdjK_jn8tcaazwjn37JM&code_challenge_method=S256&access_type=online&prefill_named_grant=crocus-user-app\n",
      "-------------------------------------\n",
      "\n"
     ]
    },
    {
     "name": "stdin",
     "output_type": "stream",
     "text": [
      "Enter the resulting Authorization Code here:\n",
      " vjLdg4MKv2vK7RqziuxNdZR58DALLM\n"
     ]
    }
   ],
   "source": [
    "CLIENT_ID = \"1b3a354b-30b2-415d-a137-751c23cf9a1f\"\n",
    "my_app = UserApp(\"crocus-user-app\", client_id=CLIENT_ID)\n",
    "\n",
    "my_app.add_scope_requirements({'flows': [\"https://auth.globus.org/scopes/eec9b274-0c81-4334-bdc2-54e90e689b9a/all\"]})\n",
    "\n",
    "my_app.run_login_flow()\n",
    "\n",
    "flows_client = globus_sdk.FlowsClient(app=my_app)"
   ]
  },
  {
   "cell_type": "code",
   "execution_count": 3,
   "id": "6a2667f1-b814-49c4-bbf0-91f54a3671d3",
   "metadata": {},
   "outputs": [],
   "source": [
    "compute_endpoint = \"a93bab84-bc75-43a0-8ab9-ba7a41a1a2d4\""
   ]
  },
  {
   "cell_type": "code",
   "execution_count": 4,
   "id": "3150cc8a-d651-4165-bfb5-ec1ba7e10142",
   "metadata": {},
   "outputs": [],
   "source": [
    "wxt_function = \"d78ce48d-614a-4c77-add7-1c0e25c3472d\""
   ]
  },
  {
   "cell_type": "code",
   "execution_count": 5,
   "id": "587b1f64-7807-45c2-998c-ff4d26c7a4ff",
   "metadata": {},
   "outputs": [],
   "source": [
    "gce = Executor(endpoint_id=compute_endpoint)"
   ]
  },
  {
   "cell_type": "code",
   "execution_count": 8,
   "id": "140677f0-1542-4d6a-859b-b4bef2b093e2",
   "metadata": {},
   "outputs": [],
   "source": [
    "# Prepare payload for ESGF ingest-wxt\n",
    "wxt_data = {\n",
    "    \"ndays\": 1,\n",
    "    \"y\": 2024,\n",
    "    \"m\": 8,\n",
    "    \"d\": 2,\n",
    "    \"site\": 'NU',\n",
    "    \"hours\": 1,\n",
    "    \"odir\": \"/home/rchard/src/CROCUS/output/\"\n",
    "}\n",
    "\n",
    "# Start the task\n",
    "future = gce.submit_to_registered_function(wxt_function, kwargs=wxt_data)"
   ]
  },
  {
   "cell_type": "code",
   "execution_count": 9,
   "id": "ae8163ce-0adb-434d-afd2-f23fc2051e89",
   "metadata": {},
   "outputs": [
    {
     "name": "stdout",
     "output_type": "stream",
     "text": [
      "['/home/rchard/src/CROCUS/output//crocus-NU-wxt-a1_20240802_000000.nc']\n"
     ]
    }
   ],
   "source": [
    "# Wait and print the result\n",
    "result = future.result()\n",
    "print(result)"
   ]
  },
  {
   "cell_type": "code",
   "execution_count": 34,
   "id": "b7c5e0f6-eae8-4a47-86d9-4394a25b180b",
   "metadata": {},
   "outputs": [],
   "source": [
    "flow_definition = {\n",
    "    \"Comment\": \"A CROCUS WXT flow\",\n",
    "    \"StartAt\": \"TransferInput\",\n",
    "    \"States\": {\n",
    "        \"TransferInput\": {\n",
    "            \"Comment\": \"Transfer input data\",\n",
    "            \"Type\": \"Action\",\n",
    "            \"ActionUrl\": \"https://actions.automate.globus.org/transfer/transfer\",\n",
    "            \"Parameters\": {\n",
    "                \"source_endpoint_id.$\": \"$.input.source.id\",\n",
    "                \"destination_endpoint_id.$\": \"$.input.destination.id\",\n",
    "                \"transfer_items\": [\n",
    "                    {\n",
    "                        \"source_path.$\": \"$.input.source.path\",\n",
    "                        \"destination_path.$\": \"$.input.destination.path\",\n",
    "                        \"recursive\": True,\n",
    "                    }\n",
    "                ]\n",
    "            },\n",
    "            \"ResultPath\": \"$.TransferFiles\",\n",
    "            \"WaitTime\": 300,\n",
    "            \"Next\": \"ProcessWXT\"\n",
    "        },\n",
    "        \"ProcessWXT\": {\n",
    "            \"Comment\": \"Collect WXT data from Sage\",\n",
    "            \"Type\": \"Action\",\n",
    "            \"ActionUrl\": \"https://compute.actions.globus.org/\",\n",
    "            \"Parameters\": {\n",
    "                \"endpoint.$\": \"$.input.compute_endpoint\",\n",
    "                \"function.$\": \"$.input.wxt_function\",\n",
    "                \"kwargs.$\": \"$.input.wxt_kwargs\"\n",
    "            },\n",
    "            \"ResultPath\": \"$.CROCUS_output\",\n",
    "            \"WaitTime\": 600,\n",
    "            \"End\": True\n",
    "        },\n",
    "    }\n",
    "}"
   ]
  },
  {
   "cell_type": "code",
   "execution_count": 12,
   "id": "1605d23e-0d22-493e-a89b-734eef70d600",
   "metadata": {},
   "outputs": [],
   "source": [
    "flow_id = \"b944990b-1e87-4401-98fd-fd9caab491fc\""
   ]
  },
  {
   "cell_type": "code",
   "execution_count": 46,
   "id": "8d6de2bd-3302-4802-9d4e-c3685010d8f1",
   "metadata": {
    "scrolled": true
   },
   "outputs": [],
   "source": [
    "# flow = flows_client.create_flow(title=\"CROCUS Flow\", definition=flow_definition, input_schema={})\n",
    "flow = flows_client.update_flow(flow_id=flow_id, title=\"CROCUS Flow\", definition=flow_definition, input_schema={})"
   ]
  },
  {
   "cell_type": "code",
   "execution_count": 47,
   "id": "1d3eca30-ab8b-4952-8946-b6af3b0e30ff",
   "metadata": {},
   "outputs": [],
   "source": [
    "flow_input = {\n",
    "    \"input\": {\n",
    "        \"source\": {\n",
    "            \"id\": \"6c54cade-bde5-45c1-bdea-f4bd71dba2cc\",\n",
    "            \"path\": \"/home/share/godata/\"\n",
    "        },\n",
    "        \"destination\": {\n",
    "            \"id\": \"31ce9ba0-176d-45a5-add3-f37d233ba47d\",\n",
    "            \"path\": \"/~/test/\"\n",
    "        },\n",
    "        \"compute_endpoint\": compute_endpoint,\n",
    "        \"wxt_kwargs\": wxt_data,\n",
    "        \"wxt_function\": wxt_function,\n",
    "    }\n",
    "}"
   ]
  },
  {
   "cell_type": "code",
   "execution_count": 48,
   "id": "7c882953-2c9d-43d8-b505-628527794328",
   "metadata": {},
   "outputs": [],
   "source": [
    "flow_id = flow['id']"
   ]
  },
  {
   "cell_type": "code",
   "execution_count": 49,
   "id": "79b01f90-2569-4eac-b6a7-3391fe4d1212",
   "metadata": {},
   "outputs": [],
   "source": [
    "specific_flow_client = globus_sdk.SpecificFlowClient(\n",
    "    flow_id=flow_id,\n",
    "    app=my_app,\n",
    ")"
   ]
  },
  {
   "cell_type": "code",
   "execution_count": 50,
   "id": "6b821590-0b5b-43ec-aa4d-e4452e49aa20",
   "metadata": {},
   "outputs": [],
   "source": [
    "run = specific_flow_client.run_flow(\n",
    "  body=flow_input,\n",
    "  label=\"CROCUS Example\",\n",
    "  tags=['CROCUS', 'example']\n",
    ")"
   ]
  },
  {
   "cell_type": "code",
   "execution_count": 51,
   "id": "5be02bf2-7eaa-424f-8bd2-ebfd77b985e8",
   "metadata": {},
   "outputs": [
    {
     "name": "stdout",
     "output_type": "stream",
     "text": [
      "This flow can be monitored in the Web App:\n",
      "https://app.globus.org/runs/e0ef8255-ecab-4f87-a30d-569084d39e56\n",
      "Flow run started with ID: e0ef8255-ecab-4f87-a30d-569084d39e56 - Status: ACTIVE\n",
      "Run status: INACTIVE\n",
      "{\n",
      "  \"run_id\": \"e0ef8255-ecab-4f87-a30d-569084d39e56\",\n",
      "  \"flow_id\": \"b944990b-1e87-4401-98fd-fd9caab491fc\",\n",
      "  \"flow_title\": \"CROCUS Flow\",\n",
      "  \"flow_last_updated\": \"2024-10-02T19:21:52.699432+00:00\",\n",
      "  \"start_time\": \"2024-10-02T19:22:49.894445+00:00\",\n",
      "  \"status\": \"INACTIVE\",\n",
      "  \"display_status\": \"INACTIVE\",\n",
      "  \"details\": {\n",
      "    \"code\": \"ConsentRequired\",\n",
      "    \"state_name\": \"TransferInput\",\n",
      "    \"description\": \"Flow run requires user intervention to proceed. For state 'TransferInput': Missing required data_access consent\",\n",
      "    \"required_scope\": \"https://auth.globus.org/scopes/b944990b-1e87-4401-98fd-fd9caab491fc/flow_b944990b_1e87_4401_98fd_fd9caab491fc_user[*https://auth.globus.org/scopes/actions.globus.org/transfer/transfer[*urn:globus:auth:scope:transfer.api.globus.org:all[*https://auth.globus.org/scopes/31ce9ba0-176d-45a5-add3-f37d233ba47d/data_access *https://auth.globus.org/scopes/6c54cade-bde5-45c1-bdea-f4bd71dba2cc/data_access]]]\",\n",
      "    \"action_statuses\": [\n",
      "      {\n",
      "        \"label\": null,\n",
      "        \"status\": \"INACTIVE\",\n",
      "        \"details\": {\n",
      "          \"code\": \"ConsentRequired\",\n",
      "          \"description\": \"Missing required data_access consent\",\n",
      "          \"required_scope\": \"https://auth.globus.org/scopes/actions.globus.org/transfer/transfer[*urn:globus:auth:scope:transfer.api.globus.org:all[*https://auth.globus.org/scopes/31ce9ba0-176d-45a5-add3-f37d233ba47d/data_access *https://auth.globus.org/scopes/6c54cade-bde5-45c1-bdea-f4bd71dba2cc/data_access]]\",\n",
      "          \"authorization_parameters\": {\n",
      "            \"required_scopes\": [\n",
      "              \"https://auth.globus.org/scopes/actions.globus.org/transfer/transfer[*urn:globus:auth:scope:transfer.api.globus.org:all[*https://auth.globus.org/scopes/31ce9ba0-176d-45a5-add3-f37d233ba47d/data_access *https://auth.globus.org/scopes/6c54cade-bde5-45c1-bdea-f4bd71dba2cc/data_access]]\"\n",
      "            ],\n",
      "            \"session_message\": \"Missing required data_access consent\"\n",
      "          }\n",
      "        },\n",
      "        \"action_id\": \"6xBKef50a4kI\",\n",
      "        \"manage_by\": [],\n",
      "        \"creator_id\": \"urn:globus:auth:identity:c4765424-d274-11e5-b894-cb4139f74ecf\",\n",
      "        \"monitor_by\": [],\n",
      "        \"start_time\": \"2024-10-02T19:22:53.823475+00:00\",\n",
      "        \"state_name\": \"TransferInput\",\n",
      "        \"release_after\": \"P30D\",\n",
      "        \"display_status\": \"INACTIVE\",\n",
      "        \"completion_time\": \"2024-10-02T19:22:53.823505+00:00\"\n",
      "      }\n",
      "    ],\n",
      "    \"authorization_parameters\": {\n",
      "      \"required_scopes\": [\n",
      "        \"https://auth.globus.org/scopes/b944990b-1e87-4401-98fd-fd9caab491fc/flow_b944990b_1e87_4401_98fd_fd9caab491fc_user[*https://auth.globus.org/scopes/actions.globus.org/transfer/transfer[*urn:globus:auth:scope:transfer.api.globus.org:all[*https://auth.globus.org/scopes/31ce9ba0-176d-45a5-add3-f37d233ba47d/data_access *https://auth.globus.org/scopes/6c54cade-bde5-45c1-bdea-f4bd71dba2cc/data_access]]]\"\n",
      "      ],\n",
      "      \"session_message\": \"Flow run requires user intervention to proceed. For state 'TransferInput': Missing required data_access consent\"\n",
      "    }\n",
      "  },\n",
      "  \"run_owner\": \"urn:globus:auth:identity:c4765424-d274-11e5-b894-cb4139f74ecf\",\n",
      "  \"run_managers\": [],\n",
      "  \"run_monitors\": [],\n",
      "  \"user_role\": \"run_owner\",\n",
      "  \"label\": \"CROCUS Example\",\n",
      "  \"tags\": [\n",
      "    \"CROCUS\",\n",
      "    \"example\"\n",
      "  ],\n",
      "  \"action_id\": \"e0ef8255-ecab-4f87-a30d-569084d39e56\",\n",
      "  \"manage_by\": [],\n",
      "  \"monitor_by\": [],\n",
      "  \"created_by\": \"urn:globus:auth:identity:c4765424-d274-11e5-b894-cb4139f74ecf\"\n",
      "}\n"
     ]
    }
   ],
   "source": [
    "# Get run details\n",
    "# run = flows_client.get_run(run_id)\n",
    "\n",
    "run_id = run['run_id']\n",
    "run_status = run['status']\n",
    "print(\"This flow can be monitored in the Web App:\")\n",
    "print(f\"https://app.globus.org/runs/{run_id}\")\n",
    "print(f\"Flow run started with ID: {run_id} - Status: {run_status}\")\n",
    "\n",
    "# Poll the Flow service to check on the status of the flow\n",
    "while run_status == 'ACTIVE':\n",
    "    time.sleep(5)\n",
    "    run = flows_client.get_run(run_id)\n",
    "    run_status = run['status']\n",
    "    print(f'Run status: {run_status}')\n",
    "    \n",
    "# Run completed\n",
    "print(json.dumps(run.data, indent=2))"
   ]
  },
  {
   "cell_type": "markdown",
   "id": "8f3c1b4d-af1f-454a-9d69-71b7a4f08503",
   "metadata": {},
   "source": [
    "# Add an input schema\n",
    "\n",
    "This gives us the \"Start\" button on the flows GUI."
   ]
  },
  {
   "cell_type": "code",
   "execution_count": 45,
   "id": "11cc6f3c-1c80-4303-9119-07f9b46a0ff9",
   "metadata": {},
   "outputs": [],
   "source": [
    "input_schema = {\n",
    "    \"required\": [\n",
    "        \"input\"\n",
    "    ],\n",
    "    \"properties\": {\n",
    "        \"input\": {\n",
    "            \"type\": \"object\",\n",
    "            \"required\": [\n",
    "                \"source\",\n",
    "                \"destination\",\n",
    "                \"compute_endpoint\",\n",
    "                \"wxt_function\",\n",
    "                \"wxt_kwargs\"\n",
    "            ],\n",
    "            \"properties\": {\n",
    "                \"source\": {\n",
    "                    \"type\": \"object\",\n",
    "                    \"title\": \"Select source collection and path\",\n",
    "                    \"description\": \"The source collection and path (path MUST end with a slash)\",\n",
    "                    \"format\": \"globus-collection\",\n",
    "                    \"required\": [\n",
    "                        \"id\",\n",
    "                        \"path\"\n",
    "                    ],\n",
    "                    \"properties\": {\n",
    "                        \"id\": {\n",
    "                            \"type\": \"string\",\n",
    "                            \"format\": \"uuid\"\n",
    "                        },\n",
    "                        \"path\": {\n",
    "                            \"type\": \"string\"\n",
    "                        }\n",
    "                    },\n",
    "                    \"additionalProperties\": False\n",
    "                },\n",
    "                \"destination\": {\n",
    "                    \"type\": \"object\",\n",
    "                    \"title\": \"Select destination collection and path\",\n",
    "                    \"description\": \"The destination collection and path (path MUST end with a slash); default collection is 'Globus Tutorials on ALCF Eagle'\",\n",
    "                    \"format\": \"globus-collection\",\n",
    "                    \"required\": [\n",
    "                        \"id\",\n",
    "                        \"path\"\n",
    "                    ],\n",
    "                    \"properties\": {\n",
    "                        \"id\": {\n",
    "                            \"type\": \"string\",\n",
    "                            \"format\": \"uuid\"\n",
    "                        },\n",
    "                        \"path\": {\n",
    "                            \"type\": \"string\"\n",
    "                        }\n",
    "                    },\n",
    "                    \"additionalProperties\": False\n",
    "                },\n",
    "                \"compute_endpoint\": {\n",
    "                    \"type\": \"string\",\n",
    "                    \"format\": \"uuid\",\n",
    "                    \"default\": compute_endpoint,\n",
    "                    \"title\": \"Globus Compute Endpoint ID\",\n",
    "                    \"description\": \"The UUID of the Globus Compute endpoint where the function will run\"\n",
    "                },\n",
    "                \"wxt_function\": {\n",
    "                    \"type\": \"string\",\n",
    "                    \"format\": \"uuid\",\n",
    "                    \"default\": wxt_function,\n",
    "                    \"title\": \"Globus Compute Function ID\",\n",
    "                    \"description\": \"The UUID of the function to invoke; must be registered with the Globus Compute service\"\n",
    "                },\n",
    "                \"wxt_kwargs\": {\n",
    "                    \"type\": \"object\",\n",
    "                    \"title\": \"Function Inputs\",\n",
    "                    \"description\": \"Inputs to pass to the function\",\n",
    "                    \"properties\":  {\n",
    "                        \"ndays\": {\n",
    "                            \"type\": \"integer\",\n",
    "                            \"default\": 1\n",
    "                        },\n",
    "                        \"y\": {\n",
    "                            \"type\": \"integer\",\n",
    "                            \"default\": 2024\n",
    "                        },\n",
    "                        \"m\": {\n",
    "                            \"type\": \"integer\",\n",
    "                            \"default\": 8\n",
    "                        },\n",
    "                        \"d\": {\n",
    "                            \"type\": \"integer\",\n",
    "                            \"default\": 1\n",
    "                        },\n",
    "                        \"site\": {\n",
    "                            \"type\": \"string\",\n",
    "                            \"default\": \"NU\"\n",
    "                        },\n",
    "                        \"hours\": {\n",
    "                            \"type\": \"integer\",\n",
    "                            \"default\": 1\n",
    "                        },\n",
    "                        \"odir\": {\n",
    "                            \"type\": \"string\",\n",
    "                            \"default\": \"/home/rchard/src/CROCUS/output/\"\n",
    "                        },\n",
    "                    },\n",
    "                    \"additionalProperties\": False\n",
    "                }\n",
    "            },\n",
    "            \"additionalProperties\": False\n",
    "        }\n",
    "    },\n",
    "    \"additionalProperties\": False\n",
    "}"
   ]
  },
  {
   "cell_type": "code",
   "execution_count": null,
   "id": "977f2ab3-6343-4c4c-a5ab-3cc9c73cc429",
   "metadata": {},
   "outputs": [],
   "source": [
    "flow = flows_client.update_flow(flow_id=flow_id, title=\"CROCUS Flow\", definition=flow_definition, input_schema=input_schema)"
   ]
  },
  {
   "cell_type": "code",
   "execution_count": null,
   "id": "2df3578c-a85d-419d-abe7-867cf87d1d4d",
   "metadata": {},
   "outputs": [],
   "source": []
  },
  {
   "cell_type": "markdown",
   "id": "6697cb73-8a5e-4663-b904-be111249516c",
   "metadata": {},
   "source": [
    "# Configure a Timer\n",
    "\n",
    "This will automate the invocation of the flow each day."
   ]
  },
  {
   "cell_type": "code",
   "execution_count": null,
   "id": "4f2735f8-6902-4a2a-877d-6879dc3a2bec",
   "metadata": {},
   "outputs": [],
   "source": [
    "from globus_sdk.scopes import TimerScopes, FlowsScopes"
   ]
  },
  {
   "cell_type": "code",
   "execution_count": null,
   "id": "6d90083b-eb53-4b6c-b705-4e1d4ff95637",
   "metadata": {},
   "outputs": [],
   "source": [
    "timer_client = globus_sdk.TimerClient(app=my_app, app_scopes=FlowsScopes.all)"
   ]
  },
  {
   "cell_type": "code",
   "execution_count": null,
   "id": "bcd8dae5-2075-4f93-bf6a-b2de6f0291da",
   "metadata": {},
   "outputs": [],
   "source": [
    "callback_url = slash_join(specific_flow_client.base_url, f\"/flows/{flow_id}/run\")"
   ]
  },
  {
   "cell_type": "code",
   "execution_count": null,
   "id": "6b66df52-ed0f-453a-9e25-83813ee5829d",
   "metadata": {},
   "outputs": [],
   "source": [
    "callback_url"
   ]
  },
  {
   "cell_type": "code",
   "execution_count": null,
   "id": "f185073a-9e11-4e52-abb9-ba7917fbe578",
   "metadata": {},
   "outputs": [],
   "source": []
  },
  {
   "cell_type": "code",
   "execution_count": null,
   "id": "c090a714-1b02-4c4e-8e36-9caa57a9319e",
   "metadata": {},
   "outputs": [],
   "source": []
  },
  {
   "cell_type": "code",
   "execution_count": null,
   "id": "1e2ff2fe-f624-45b0-a47f-237ceb37a35d",
   "metadata": {},
   "outputs": [],
   "source": [
    "specific_flow_client.scopes.user"
   ]
  },
  {
   "cell_type": "code",
   "execution_count": null,
   "id": "f0a052f6-c6a4-4fea-883e-9dc80883c3c8",
   "metadata": {},
   "outputs": [],
   "source": [
    "specific_flow_client.scopes.url_scope_string('user')"
   ]
  },
  {
   "cell_type": "code",
   "execution_count": null,
   "id": "0ab8ab05-c4ff-48cf-8624-4cf2ccf02278",
   "metadata": {},
   "outputs": [],
   "source": [
    "specific_flow_client.scopes.user"
   ]
  },
  {
   "cell_type": "code",
   "execution_count": null,
   "id": "1e3dbbee-f3c6-4a05-b17f-8ae23af80868",
   "metadata": {},
   "outputs": [],
   "source": [
    "timer = TimerJob(\n",
    "    callback_url=callback_url,\n",
    "    callback_body={\"body\": flow_input, \"label\": \"CROCUS Timer Flow\"},\n",
    "    start=datetime.datetime.now(),\n",
    "    interval=datetime.timedelta(seconds=600),\n",
    "    name=\"CROCUS Flow Timer\",\n",
    "    scope=specific_flow_client.scopes.user,\n",
    "    # scope=globus_sdk.SpecificFlowClient(flow_id).scopes.url_scope_string('user'),\n",
    ")"
   ]
  },
  {
   "cell_type": "code",
   "execution_count": null,
   "id": "40cc26dd-9dfa-4a4a-af5c-6af98241cd2e",
   "metadata": {},
   "outputs": [],
   "source": [
    "response = timer_client.create_job(timer)"
   ]
  },
  {
   "cell_type": "code",
   "execution_count": null,
   "id": "04a0ef73-455e-499d-859c-f5074c243bc9",
   "metadata": {},
   "outputs": [],
   "source": []
  },
  {
   "cell_type": "code",
   "execution_count": null,
   "id": "2e6b5fac-4558-44a1-ab01-03b5a1952e1b",
   "metadata": {},
   "outputs": [],
   "source": []
  },
  {
   "cell_type": "code",
   "execution_count": null,
   "id": "94650424-2e80-4ef0-9bfa-4c89bb29b086",
   "metadata": {},
   "outputs": [],
   "source": [
    "from globus_sdk import RefreshTokenAuthorizer\n",
    "from globus_sdk import AccessTokenAuthorizer\n",
    "from globus_sdk import NativeAppAuthClient\n",
    "from globus_sdk import SpecificFlowClient\n",
    "from globus_sdk import TimerClient\n",
    "from globus_sdk.scopes.data import TimerScopes\n",
    "_TIMER_CLIENT_UUID: str = \"524230d7-ea86-4a52-8312-86065a9e0417\""
   ]
  },
  {
   "cell_type": "code",
   "execution_count": null,
   "id": "2a514bbe-4577-4e0f-8c78-09a504608274",
   "metadata": {},
   "outputs": [],
   "source": [
    "_REDIRECT_URI = \"https://auth.globus.org/v2/web/auth-code\"\n",
    "\n",
    "def authenticate(client: NativeAppAuthClient, scope: str):\n",
    "    \"\"\"Perform Globus Authentication.\"\"\"\n",
    "\n",
    "    # assert False, scope\n",
    "    client.oauth2_start_flow(\n",
    "        redirect_uri=_REDIRECT_URI, refresh_tokens=True, requested_scopes=scope\n",
    "    )\n",
    "\n",
    "    url = client.oauth2_get_authorize_url()\n",
    "    print(\"Please visit the following url to authenticate:\")\n",
    "    print(url)\n",
    "\n",
    "    auth_code = input(\"Enter the auth code:\")\n",
    "    auth_code = auth_code.strip()\n",
    "    return client.oauth2_exchange_code_for_tokens(auth_code)\n",
    "\n",
    "def create_authorizer(flow_id, auth_type=\"timer\"):\n",
    "    client, specific_flow_scope = create_context(flow_id)\n",
    "\n",
    "    if auth_type == \"timer\":\n",
    "        resource_server = _TIMER_CLIENT_UUID\n",
    "    else:\n",
    "        resource_server = flow_id\n",
    "\n",
    "    timer_scope = TimerScopes.make_mutable(\"timer\")\n",
    "    scopes = [timer_scope]\n",
    "    # assert False, flows_scope\n",
    "\n",
    "    sfc = SpecificFlowClient(flow_id=flow_id)\n",
    "    specific_flow_scope_name = f\"flow_{flow_id.replace('-', '_')}_user\"\n",
    "    specific_flow_scope = sfc.scopes.url_scope_string(specific_flow_scope_name)\n",
    "    scopes.append(sfc.scopes.user)\n",
    "    timer_scope.add_dependency(specific_flow_scope)\n",
    "\n",
    "    print(timer_scope)\n",
    "    \n",
    "    tokens = authenticate(client, scopes)\n",
    "    \n",
    "    if auth_type == \"flows\":\n",
    "        assert fid is not None\n",
    "        flows_access_token = tokens.by_resource_server[fid][\"access_token\"]\n",
    "        authorizer = AccessTokenAuthorizer(access_token=flows_access_token)\n",
    "\n",
    "    elif auth_type == \"timer\":\n",
    "        timer_access_token = tokens.by_resource_server[_TIMER_CLIENT_UUID][\n",
    "            \"access_token\"\n",
    "        ]\n",
    "        authorizer = AccessTokenAuthorizer(access_token=timer_access_token)\n",
    "\n",
    "    return authorizer, specific_flow_scope\n",
    "\n",
    "def create_context(flow_id):\n",
    "    sfc = SpecificFlowClient(flow_id=flow_id)\n",
    "    specific_flow_scope_name = f\"flow_{flow_id.replace('-', '_')}_user\"\n",
    "    specific_flow_scope = sfc.scopes.url_scope_string(specific_flow_scope_name)\n",
    "    client = NativeAppAuthClient(client_id=CLIENT_ID)\n",
    "    return client, specific_flow_scope\n"
   ]
  },
  {
   "cell_type": "code",
   "execution_count": null,
   "id": "23582427-6b6a-4929-b0a7-0d9f8d2ac248",
   "metadata": {},
   "outputs": [],
   "source": [
    "authorizer, specific_flow_scope = create_authorizer(flow_id)"
   ]
  },
  {
   "cell_type": "code",
   "execution_count": null,
   "id": "f6c1f85a-2315-4d19-a2f8-8de3dba13257",
   "metadata": {},
   "outputs": [],
   "source": [
    "specific_flow_scope"
   ]
  },
  {
   "cell_type": "code",
   "execution_count": null,
   "id": "05975474-c340-4d24-81ca-2d809fd81509",
   "metadata": {},
   "outputs": [],
   "source": [
    "timer = TimerJob(\n",
    "    callback_url=callback_url,\n",
    "    callback_body={\"body\": flow_input, \"label\": \"CROCUS Timer Flow\"},\n",
    "    start=datetime.datetime.utcnow(),\n",
    "    interval=datetime.timedelta(seconds=600),\n",
    "    name=\"CROCUS Flow Timer\",\n",
    "    scope=specific_flow_scope,\n",
    "    # scope=globus_sdk.SpecificFlowClient(flow_id).scopes.url_scope_string('user'),\n",
    ")"
   ]
  },
  {
   "cell_type": "code",
   "execution_count": null,
   "id": "a56dbef3-784a-4688-8a66-36035841ecf6",
   "metadata": {},
   "outputs": [],
   "source": [
    "timer_client = TimerClient(authorizer=authorizer, app_name=\"CROCUS Timer\")"
   ]
  },
  {
   "cell_type": "code",
   "execution_count": null,
   "id": "f98af2fe-8903-4749-ace4-c5f1fbb3e2ba",
   "metadata": {},
   "outputs": [],
   "source": [
    "response = timer_client.create_job(timer)"
   ]
  },
  {
   "cell_type": "code",
   "execution_count": null,
   "id": "7af1868a-3f99-4fbc-9e39-126adb32687e",
   "metadata": {},
   "outputs": [],
   "source": [
    "response"
   ]
  },
  {
   "cell_type": "code",
   "execution_count": null,
   "id": "81ca15ef-a1be-45d0-ac05-108177baf6f1",
   "metadata": {},
   "outputs": [],
   "source": [
    "timer_client.list_jobs()"
   ]
  },
  {
   "cell_type": "code",
   "execution_count": null,
   "id": "ab64da33-964d-4b0b-99bd-48593bfc3041",
   "metadata": {},
   "outputs": [],
   "source": [
    "response.get('job_id')"
   ]
  },
  {
   "cell_type": "code",
   "execution_count": null,
   "id": "a4ad7662-cb50-4b09-859b-50ce7c2722c2",
   "metadata": {},
   "outputs": [],
   "source": [
    "timer_client.get_job(response.get('job_id')).data"
   ]
  },
  {
   "cell_type": "code",
   "execution_count": null,
   "id": "f9473cd6-ae6a-44d7-b506-a32a3226ddd9",
   "metadata": {},
   "outputs": [],
   "source": [
    "timer_client.delete_job(response.get('job_id'))"
   ]
  },
  {
   "cell_type": "code",
   "execution_count": null,
   "id": "04ac1f11-892c-401d-8579-563924653e28",
   "metadata": {},
   "outputs": [],
   "source": []
  },
  {
   "cell_type": "code",
   "execution_count": null,
   "id": "ee3b00f9-f0f6-40a4-ab9e-4a0d7eabb3f9",
   "metadata": {},
   "outputs": [],
   "source": []
  },
  {
   "cell_type": "code",
   "execution_count": null,
   "id": "326db20f-b452-4c71-b3e8-1d4102442048",
   "metadata": {},
   "outputs": [],
   "source": []
  },
  {
   "cell_type": "code",
   "execution_count": null,
   "id": "637bd073-7061-4870-b8d0-3ebb1a6b8812",
   "metadata": {},
   "outputs": [],
   "source": []
  },
  {
   "cell_type": "code",
   "execution_count": null,
   "id": "23af9d28-53d1-4f77-a4af-b7ac0f34f4ca",
   "metadata": {
    "jupyter": {
     "source_hidden": true
    }
   },
   "outputs": [],
   "source": [
    "my_app = UserApp(\"crocus-user-app\", client_id=CLIENT_ID)"
   ]
  },
  {
   "cell_type": "code",
   "execution_count": null,
   "id": "158f58bd-5a8b-473b-b839-42e73e6b8199",
   "metadata": {},
   "outputs": [],
   "source": [
    "from globus_sdk.scopes.data import TimerScopes\n",
    "\n",
    "# flow_scope = SpecificFlowClient(flow_id).scopes.user\n",
    "# dep_scope = f\"{TimerScopes.timer}[{flow_scope}]\"\n",
    "\n",
    "\n",
    "timer_scope = TimerScopes.make_mutable(\"timer\")\n",
    "timer_scope.add_dependency(flow_scope)\n",
    "\n",
    "\n",
    "timer_client = globus_sdk.TimerClient(app=my_app, app_scopes=dep_scope)"
   ]
  },
  {
   "cell_type": "code",
   "execution_count": null,
   "id": "7b058f09-d12c-454d-9ed5-693ee9a66e94",
   "metadata": {},
   "outputs": [],
   "source": [
    "timer_client = globus_sdk.TimerClient(app=my_app, app_scopes=dep_scope)"
   ]
  },
  {
   "cell_type": "code",
   "execution_count": null,
   "id": "e5041998-4276-4965-a01b-1bc7ec5bdda4",
   "metadata": {},
   "outputs": [],
   "source": []
  },
  {
   "cell_type": "code",
   "execution_count": null,
   "id": "95b887d4-2147-4916-951b-15974637f203",
   "metadata": {},
   "outputs": [],
   "source": [
    "timer = TimerJob(\n",
    "    callback_url=callback_url,\n",
    "    callback_body={\"body\": flow_input, \"label\": \"CROCUS Timer Flow\"},\n",
    "    start=datetime.datetime.utcnow(),\n",
    "    interval=datetime.timedelta(seconds=600),\n",
    "    name=\"CROCUS Flow Timer\",\n",
    "    scope=SpecificFlowClient(flow_id).scopes.user,\n",
    ")"
   ]
  },
  {
   "cell_type": "code",
   "execution_count": null,
   "id": "d5a777bc-7409-461b-ab65-96380ba6be75",
   "metadata": {},
   "outputs": [],
   "source": [
    "SpecificFlowClient(flow_id).scopes.user"
   ]
  },
  {
   "cell_type": "code",
   "execution_count": null,
   "id": "c2fa7235-dc2d-4c45-92a7-250e6374513e",
   "metadata": {},
   "outputs": [],
   "source": [
    "response = timer_client.create_job(timer)"
   ]
  },
  {
   "cell_type": "code",
   "execution_count": null,
   "id": "df3cc288-1525-45ab-8270-5aa5263546d6",
   "metadata": {},
   "outputs": [],
   "source": [
    "response.get('job_id')"
   ]
  },
  {
   "cell_type": "code",
   "execution_count": null,
   "id": "3490e281-e74e-4db4-b523-364b109df627",
   "metadata": {},
   "outputs": [],
   "source": [
    "timer_client.get_job(response.get('job_id')).data"
   ]
  },
  {
   "cell_type": "code",
   "execution_count": null,
   "id": "c1c7e65b-4104-42ff-8897-d3ac84088e11",
   "metadata": {},
   "outputs": [],
   "source": [
    "timer_client.delete_job(response.get('job_id'))"
   ]
  },
  {
   "cell_type": "code",
   "execution_count": null,
   "id": "2b37c757-b779-4c04-9cc2-505857263065",
   "metadata": {},
   "outputs": [],
   "source": []
  }
 ],
 "metadata": {
  "kernelspec": {
   "display_name": "Python 3 (ipykernel)",
   "language": "python",
   "name": "python3"
  },
  "language_info": {
   "codemirror_mode": {
    "name": "ipython",
    "version": 3
   },
   "file_extension": ".py",
   "mimetype": "text/x-python",
   "name": "python",
   "nbconvert_exporter": "python",
   "pygments_lexer": "ipython3",
   "version": "3.10.14"
  }
 },
 "nbformat": 4,
 "nbformat_minor": 5
}
